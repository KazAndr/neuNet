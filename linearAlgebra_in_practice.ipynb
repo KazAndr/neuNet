{
 "cells": [
  {
   "cell_type": "markdown",
   "metadata": {},
   "source": [
    "# Задачи, решаемые линейной регрессией\n",
    "\n",
    "1. Есть набор наблюдений\n",
    "2. Есть целевая переменная (в случае линейной регрессии целевая переменная должна быть количественной)\n",
    "3. Предполагаем, что данные наблюдений связаны линейно"
   ]
  },
  {
   "cell_type": "markdown",
   "metadata": {},
   "source": [
    "## Обозначения\n",
    "\n",
    "1. **X** - матрица наблюдений(**n** наблюдений с **m** переменными)\n",
    "2. $\\beta$ - вектор коэффициентов (дает модели гибкость, позволяя использовать ее с разными данными), размерность данного вектора **m + 1**x**1**\n",
    "3. **y** - вектор значений целевой переменной, размерность **n**x**1**\n",
    "4. $\\epsilon$ - вектор нормально распределенных ошибок\n"
   ]
  },
  {
   "cell_type": "code",
   "execution_count": null,
   "metadata": {},
   "outputs": [],
   "source": []
  }
 ],
 "metadata": {
  "kernelspec": {
   "display_name": "Python 3",
   "language": "python",
   "name": "python3"
  },
  "language_info": {
   "codemirror_mode": {
    "name": "ipython",
    "version": 3
   },
   "file_extension": ".py",
   "mimetype": "text/x-python",
   "name": "python",
   "nbconvert_exporter": "python",
   "pygments_lexer": "ipython3",
   "version": "3.5.5"
  }
 },
 "nbformat": 4,
 "nbformat_minor": 2
}
