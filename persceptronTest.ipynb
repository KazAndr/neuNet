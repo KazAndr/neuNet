{
 "cells": [
  {
   "cell_type": "code",
   "execution_count": 1,
   "metadata": {
    "collapsed": true
   },
   "outputs": [],
   "source": [
    "import numpy as np"
   ]
  },
  {
   "cell_type": "code",
   "execution_count": 87,
   "metadata": {
    "collapsed": true
   },
   "outputs": [],
   "source": [
    "x1 = np.array([1, 0, 1, 0]) # Входы\n",
    "x2 = np.array([1, 1, 0, 0])\n",
    "x3 = np.array([1, 1, 1, 0])\n",
    "x4 = np.array([1, 0, 1, 1])"
   ]
  },
  {
   "cell_type": "code",
   "execution_count": 88,
   "metadata": {
    "collapsed": true
   },
   "outputs": [],
   "source": [
    "w1 = np.array([4, -1 , 0, -1]) # Веса\n",
    "w2 = np.array([0, -10 , 5, 2])\n",
    "w3 = np.array([5, 0 , -1, -5])\n",
    "w4 = np.array([-5, -1 , 5, 0])"
   ]
  },
  {
   "cell_type": "code",
   "execution_count": 89,
   "metadata": {
    "collapsed": true
   },
   "outputs": [],
   "source": [
    "list_enters = [x1, x2, x3, x4]\n",
    "list_wight = [w1, w2, w3, w4]"
   ]
  },
  {
   "cell_type": "code",
   "execution_count": 90,
   "metadata": {},
   "outputs": [
    {
     "name": "stdout",
     "output_type": "stream",
     "text": [
      "YES 4\n",
      "No -10\n",
      "YES 4\n",
      "No 0\n"
     ]
    }
   ],
   "source": [
    "for i in range(len(w1)):\n",
    "    answer = np.dot(list_wight[i].T, list_enters[i])\n",
    "    if answer > 0:\n",
    "        print('YES', answer)\n",
    "    else:\n",
    "        print('No', answer)"
   ]
  },
  {
   "cell_type": "code",
   "execution_count": 25,
   "metadata": {},
   "outputs": [
    {
     "data": {
      "text/plain": [
       "array([ 5,  0, -1, -5])"
      ]
     },
     "execution_count": 25,
     "metadata": {},
     "output_type": "execute_result"
    }
   ],
   "source": [
    "wT"
   ]
  },
  {
   "cell_type": "code",
   "execution_count": 26,
   "metadata": {},
   "outputs": [
    {
     "data": {
      "text/plain": [
       "array([ 5,  0, -1, -5])"
      ]
     },
     "execution_count": 26,
     "metadata": {},
     "output_type": "execute_result"
    }
   ],
   "source": [
    "w"
   ]
  },
  {
   "cell_type": "markdown",
   "metadata": {},
   "source": [
    "Определение логической функции"
   ]
  },
  {
   "cell_type": "code",
   "execution_count": 103,
   "metadata": {
    "collapsed": true
   },
   "outputs": [],
   "source": [
    "#Веса\n",
    "w = np.array([-1.5, 1, 1])\n",
    "# входы\n",
    "x = np.array([1, 0, 0])"
   ]
  },
  {
   "cell_type": "code",
   "execution_count": 104,
   "metadata": {},
   "outputs": [
    {
     "name": "stdout",
     "output_type": "stream",
     "text": [
      "-1.5\n"
     ]
    }
   ],
   "source": [
    "print(np.dot(w.T, x))"
   ]
  },
  {
   "cell_type": "markdown",
   "metadata": {
    "collapsed": true
   },
   "source": [
    "### Обучение перцептрона "
   ]
  },
  {
   "cell_type": "markdown",
   "metadata": {},
   "source": [
    "Обучение перцептрона на некоторых данных различать груши и не груши (пока не надо обучать до сходимости: просто примеяем обучающее правило последовательно по одному разу на каждом примере, всего должно получится 3 последовательных применения обучающего правила). "
   ]
  },
  {
   "cell_type": "markdown",
   "metadata": {},
   "source": [
    "Пусть у нас есть перцептрон с весами (0, 0) и смещением 0. "
   ]
  },
  {
   "cell_type": "code",
   "execution_count": 201,
   "metadata": {
    "collapsed": true
   },
   "outputs": [],
   "source": [
    "W = np.array([0., 0., 0.])"
   ]
  },
  {
   "cell_type": "markdown",
   "metadata": {},
   "source": [
    "Далее определяем входы в следующем порядке: фиктивный, желтизна, семитричность."
   ]
  },
  {
   "cell_type": "code",
   "execution_count": 202,
   "metadata": {
    "collapsed": true
   },
   "outputs": [],
   "source": [
    "X = np.array([1., 1., 0.3]) # Данные входы должны дать 1, т.е это груша"
   ]
  },
  {
   "cell_type": "code",
   "execution_count": 203,
   "metadata": {
    "collapsed": true
   },
   "outputs": [],
   "source": [
    "# Корректный ответ\n",
    "y = 1"
   ]
  },
  {
   "cell_type": "code",
   "execution_count": 204,
   "metadata": {},
   "outputs": [
    {
     "name": "stdout",
     "output_type": "stream",
     "text": [
      "0.0\n"
     ]
    }
   ],
   "source": [
    "base = np.dot(W.T, X)\n",
    "print(base)\n",
    "if base > W[0]:\n",
    "    e = 1\n",
    "else:\n",
    "    e = 0\n",
    "\n",
    "if e != y:\n",
    "    if e == 0:\n",
    "        W[0] = W[0]  + X[0]\n",
    "        W[1] = W[1]  + X[1]\n",
    "        W[2] = W[2]  + X[2]\n",
    "    if e == 1:\n",
    "        W[0] = W[0]  - X[0]\n",
    "        W[1] = W[1]  - X[1]\n",
    "        W[2] = W[2]  - X[2]"
   ]
  },
  {
   "cell_type": "code",
   "execution_count": 205,
   "metadata": {},
   "outputs": [
    {
     "data": {
      "text/plain": [
       "array([ 1. ,  1. ,  0.3])"
      ]
     },
     "execution_count": 205,
     "metadata": {},
     "output_type": "execute_result"
    }
   ],
   "source": [
    "W"
   ]
  },
  {
   "cell_type": "markdown",
   "metadata": {},
   "source": [
    "С получившимися весами, переходим к следующей проверке на входы"
   ]
  },
  {
   "cell_type": "code",
   "execution_count": 206,
   "metadata": {},
   "outputs": [],
   "source": [
    "X = np.array([1., 0.4, 0.5]) # Данные входы должны дать 1, т.е это груша"
   ]
  },
  {
   "cell_type": "code",
   "execution_count": 207,
   "metadata": {},
   "outputs": [],
   "source": [
    "# Корректный ответ\n",
    "y = 1"
   ]
  },
  {
   "cell_type": "code",
   "execution_count": 208,
   "metadata": {},
   "outputs": [
    {
     "name": "stdout",
     "output_type": "stream",
     "text": [
      "1.55\n"
     ]
    }
   ],
   "source": [
    "base = np.dot(W.T, X)\n",
    "print(base)\n",
    "if base > W[0]:\n",
    "    e = 1\n",
    "else:\n",
    "    e = 0\n",
    "\n",
    "if e != y:\n",
    "    if e == 0:\n",
    "        W[0] = W[0]  + X[0]\n",
    "        W[1] = W[1]  + X[1]\n",
    "        W[2] = W[2]  + X[2]\n",
    "    if e == 1:\n",
    "        W[0] = W[0]  - X[0]\n",
    "        W[1] = W[1]  - X[1]\n",
    "        W[2] = W[2]  - X[2]"
   ]
  },
  {
   "cell_type": "code",
   "execution_count": 209,
   "metadata": {},
   "outputs": [
    {
     "data": {
      "text/plain": [
       "array([ 1. ,  1. ,  0.3])"
      ]
     },
     "execution_count": 209,
     "metadata": {},
     "output_type": "execute_result"
    }
   ],
   "source": [
    "W"
   ]
  },
  {
   "cell_type": "markdown",
   "metadata": {},
   "source": [
    "С получившимися весами, переходим к следующей проверке на входы"
   ]
  },
  {
   "cell_type": "code",
   "execution_count": 210,
   "metadata": {
    "collapsed": true
   },
   "outputs": [],
   "source": [
    "X = np.array([1., 0.7, 0.8]) # Данные входы должны дать 0, т.е это не груша"
   ]
  },
  {
   "cell_type": "code",
   "execution_count": 211,
   "metadata": {
    "collapsed": true
   },
   "outputs": [],
   "source": [
    "# Корректный ответ\n",
    "y = 0"
   ]
  },
  {
   "cell_type": "code",
   "execution_count": 212,
   "metadata": {},
   "outputs": [
    {
     "name": "stdout",
     "output_type": "stream",
     "text": [
      "1.94\n"
     ]
    }
   ],
   "source": [
    "base = np.dot(W.T, X)\n",
    "print(base)\n",
    "if base > W[0]:\n",
    "    e = 1\n",
    "else:\n",
    "    e = 0\n",
    "\n",
    "if e != y:\n",
    "    if e == 0:\n",
    "        W[0] = W[0]  + X[0]\n",
    "        W[1] = W[1]  + X[1]\n",
    "        W[2] = W[2]  + X[2]\n",
    "    if e == 1:\n",
    "        W[0] = W[0]  - X[0]\n",
    "        W[1] = W[1]  - X[1]\n",
    "        W[2] = W[2]  - X[2]"
   ]
  },
  {
   "cell_type": "code",
   "execution_count": 213,
   "metadata": {},
   "outputs": [
    {
     "data": {
      "text/plain": [
       "array([ 0. ,  0.3, -0.5])"
      ]
     },
     "execution_count": 213,
     "metadata": {},
     "output_type": "execute_result"
    }
   ],
   "source": [
    "W"
   ]
  },
  {
   "cell_type": "markdown",
   "metadata": {},
   "source": [
    "Вывод в виде:смещение, вес для желтизны фрукта и вес для его симметричности"
   ]
  },
  {
   "cell_type": "code",
   "execution_count": null,
   "metadata": {},
   "outputs": [],
   "source": []
  },
  {
   "cell_type": "code",
   "execution_count": null,
   "metadata": {
    "collapsed": true
   },
   "outputs": [],
   "source": []
  }
 ],
 "metadata": {
  "kernelspec": {
   "display_name": "Python 3",
   "language": "python",
   "name": "python3"
  },
  "language_info": {
   "codemirror_mode": {
    "name": "ipython",
    "version": 3
   },
   "file_extension": ".py",
   "mimetype": "text/x-python",
   "name": "python",
   "nbconvert_exporter": "python",
   "pygments_lexer": "ipython3",
   "version": "3.5.2"
  }
 },
 "nbformat": 4,
 "nbformat_minor": 1
}
