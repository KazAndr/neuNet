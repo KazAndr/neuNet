{
 "cells": [
  {
   "cell_type": "markdown",
   "metadata": {},
   "source": [
    "Lecture about machine Learning  by Emille E.O. Ishida\n",
    "Next lecture in 48 room "
   ]
  },
  {
   "cell_type": "markdown",
   "metadata": {},
   "source": [
    "Iris Data Set\n",
    "\n",
    "Supervazing learning\n",
    "\n",
    "k-Nearest Neighbor (kNN) - distabce based\n",
    "\n",
    "Support Vectro Machine (SVM) \n",
    "\n",
    "Decision Trees\n",
    "\n",
    "Random Forests - ensemble method\n",
    "\n",
    "\n",
    "Unsupervazing learning\n",
    "\n",
    "k-Means - clastering\n",
    "\n",
    "Self-Organized Maps(SOM)\n"
   ]
  },
  {
   "cell_type": "markdown",
   "metadata": {},
   "source": [
    "### Learning to adapt"
   ]
  },
  {
   "cell_type": "code",
   "execution_count": 2,
   "metadata": {},
   "outputs": [
    {
     "data": {
      "text/plain": [
       "False"
      ]
     },
     "execution_count": 2,
     "metadata": {},
     "output_type": "execute_result"
    }
   ],
   "source": []
  },
  {
   "cell_type": "code",
   "execution_count": null,
   "metadata": {},
   "outputs": [],
   "source": []
  }
 ],
 "metadata": {
  "kernelspec": {
   "display_name": "Python 3",
   "language": "python",
   "name": "python3"
  },
  "language_info": {
   "codemirror_mode": {
    "name": "ipython",
    "version": 3
   },
   "file_extension": ".py",
   "mimetype": "text/x-python",
   "name": "python",
   "nbconvert_exporter": "python",
   "pygments_lexer": "ipython3",
   "version": "3.5.5"
  }
 },
 "nbformat": 4,
 "nbformat_minor": 2
}
